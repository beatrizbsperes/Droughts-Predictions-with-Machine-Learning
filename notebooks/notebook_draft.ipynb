{
 "cells": [
  {
   "cell_type": "code",
   "execution_count": 108,
   "id": "bd5a53ca",
   "metadata": {},
   "outputs": [],
   "source": [
    "import pandas as pd"
   ]
  },
  {
   "cell_type": "code",
   "execution_count": 114,
   "id": "6bf1302a",
   "metadata": {},
   "outputs": [],
   "source": [
    "path_train = \"data/archive/train_timeseries/train_timeseries.csv\"\n",
    "path_validation = \"data/archive/validation_timeseries/validation_timeseries.csv\"\n",
    "path_test = \"data/archive/test_timeseries/test_timeseries.csv\""
   ]
  },
  {
   "cell_type": "markdown",
   "id": "a56c4951",
   "metadata": {},
   "source": [
    "## 1. Introduction to the Dataset\n",
    "What is the dataset about? What are the features and the target variable? What is the application domain?"
   ]
  },
  {
   "cell_type": "markdown",
   "id": "07ac2412",
   "metadata": {},
   "source": [
    "### 1.1. Context and Introduction  \n",
    "The **US Drought & Meteorological Data** dataset, available on [Kaggle](https://www.kaggle.com/datasets/cdminix/us-drought-meteorological-data/data), combines meteorological indicators with drought severity levels from the **U.S. Drought Monitor**. It was created to support data-driven drought prediction by linking weather conditions with expert-assessed drought categories (D0–D4) and no drought at all. Each observation corresponds to a specific county in the United States, identified by its FIPS code, and includes various climatic features, daily obtained, such as temperature, precipitation, humidity, wind speed, and soil moisture, which will be explained later.\n",
    "\n",
    "The dataset integrates information from the **National Drought Mitigation Center (NDMC)**, **NOAA**, and **USDA**, which produce weekly drought classifications based on multiple climate variables such as precipitation, temperature, and soil moisture.  \n",
    "Meteorological data were aggregated and aligned with these drought severity labels to enable **machine learning applications in climate and environmental monitoring**.\n",
    "\n",
    "The dataset is already divided into three subsets:\n",
    "- **Training Set:** Contains historical data from 2000 to 2009, used to train machine learning models (it represents around 47% of the all dataset).  \n",
    "- **Validation Set:** Contains data from 2010 to 2011, used for hyperparameter tuning and model selection (it represents around 10% of the all dataset).  \n",
    "- **Test Set:** Contains data from 2012 to 2020, used to test the model accuracy prediction (it represents around 43% of the all dataset).\n",
    "\n",
    "All the subsets contain the same feature structure and data organization. For the context of this project, as explained later, it will be used this splitting format.\n",
    "  \n",
    "**Application Domain:** This dataset belongs to the domain of **climate science and environmental modeling**, with key applications in:\n",
    "- Drought risk assessment and early warning systems  \n",
    "- Agricultural and water resource management  \n",
    "- Climate variability analysis  "
   ]
  },
  {
   "cell_type": "markdown",
   "id": "ec91b8d3",
   "metadata": {},
   "source": [
    "### 1.2. Features Overview \n",
    "All dataset contains **19 meteorological indicators**, a **date column**, a **county identifier (`fips`)**, and a **target variable (`score`)** representing drought severity.  "
   ]
  },
  {
   "cell_type": "markdown",
   "id": "2d2d977a",
   "metadata": {},
   "source": [
    "- **Total entries:** 23841468 - *19300680 (training dataset), 2268840 (validation dataset), 2271948 (test dataset)*\n",
    "- **Total columns:** 21  \n",
    "- **Temporal coverage:** Daily observations across multiple U.S. counties  \n",
    "- **Target variable:** `score` — representing drought severity intensity (ordinal numeric scale)  "
   ]
  },
  {
   "cell_type": "code",
   "execution_count": 124,
   "id": "17f131b9",
   "metadata": {},
   "outputs": [
    {
     "name": "stdout",
     "output_type": "stream",
     "text": [
      "<class 'pandas.core.frame.DataFrame'>\n",
      "RangeIndex: 2268840 entries, 0 to 2268839\n",
      "Data columns (total 21 columns):\n",
      " #   Column       Dtype  \n",
      "---  ------       -----  \n",
      " 0   fips         int64  \n",
      " 1   date         object \n",
      " 2   PRECTOT      float64\n",
      " 3   PS           float64\n",
      " 4   QV2M         float64\n",
      " 5   T2M          float64\n",
      " 6   T2MDEW       float64\n",
      " 7   T2MWET       float64\n",
      " 8   T2M_MAX      float64\n",
      " 9   T2M_MIN      float64\n",
      " 10  T2M_RANGE    float64\n",
      " 11  TS           float64\n",
      " 12  WS10M        float64\n",
      " 13  WS10M_MAX    float64\n",
      " 14  WS10M_MIN    float64\n",
      " 15  WS10M_RANGE  float64\n",
      " 16  WS50M        float64\n",
      " 17  WS50M_MAX    float64\n",
      " 18  WS50M_MIN    float64\n",
      " 19  WS50M_RANGE  float64\n",
      " 20  score        float64\n",
      "dtypes: float64(19), int64(1), object(1)\n",
      "memory usage: 363.5+ MB\n"
     ]
    }
   ],
   "source": [
    "# drought_train = pd.read_csv(path_train)\n",
    "# drought_train.info()\n",
    "\n",
    "drought_validation = pd.read_csv(path_validation)   # Exploring this dataset due to its size\n",
    "drought_validation.info()                           # which is smaller than the training and testing dataset\n",
    "\n",
    "# drought_test = pd.read_csv(path_test)\n",
    "# drought_test.info()"
   ]
  },
  {
   "cell_type": "markdown",
   "id": "c06848ca",
   "metadata": {},
   "source": [
    "| Feature | Description | Type | Unit |\n",
    "|----------|--------------|------|------|\n",
    "| `fips` | FIPS code identifying the USA county | int64 | – |\n",
    "| `date` | Observation date | object | YYYY-MM-DD |\n",
    "| `PRECTOT` | Total Precipitation | float64 | mm/day |\n",
    "| `PS` | Surface Pressure | float64 | kPa |\n",
    "| `QV2M` | Specific Humidity at 2 Meters | float64 | g/kg |\n",
    "| `T2M` | Air Temperature at 2 Meters | float64 | °C |\n",
    "| `T2MDEW` | Dew/Frost Point Temperature at 2 Meters | float64 | °C |\n",
    "| `T2MWET` | Wet Bulb Temperature at 2 Meters | float64 | °C |\n",
    "| `T2M_MAX` | Maximum Temperature at 2 Meters | float64 | °C |\n",
    "| `T2M_MIN` | Minimum Temperature at 2 Meters | float64 | °C |\n",
    "| `T2M_RANGE` | Temperature Range at 2 Meters | float64 | °C |\n",
    "| `TS` | Earth Skin Temperature | float64 | °C |\n",
    "| `WS10M` | Wind Speed at 10 Meters | float64 | m/s |\n",
    "| `WS10M_MAX` | Maximum Wind Speed at 10 Meters | float64 | m/s |\n",
    "| `WS10M_MIN` | Minimum Wind Speed at 10 Meters | float64 | m/s |\n",
    "| `WS10M_RANGE` | Wind Speed Range at 10 Meters | float64 | m/s |\n",
    "| `WS50M` | Wind Speed at 50 Meters | float64 | m/s |\n",
    "| `WS50M_MAX` | Maximum Wind Speed at 50 Meters | float64 | m/s |\n",
    "| `WS50M_MIN` | Minimum Wind Speed at 50 Meters | float64 | m/s |\n",
    "| `WS50M_RANGE` | Wind Speed Range at 50 Meters | float64 | m/s |\n",
    "| `score` | Drought severity indicator (target variable) | float64  | – |"
   ]
  },
  {
   "cell_type": "markdown",
   "id": "1eb159fa",
   "metadata": {},
   "source": [
    "### 1.3. Output Variable  "
   ]
  },
  {
   "cell_type": "markdown",
   "id": "ac790d2c",
   "metadata": {},
   "source": [
    "- **Variable:** `score`  \n",
    "- **Type:** Ordinal categorical variable (`D0`–`D4`) and no drought class (`0`)\n",
    "- **Meaning:** Represents drought severity, from Abnormally Dry (D0) to Exceptional Drought (D4) and no drought shown at all."
   ]
  },
  {
   "cell_type": "code",
   "execution_count": 125,
   "id": "412364fe",
   "metadata": {},
   "outputs": [
    {
     "data": {
      "text/plain": [
       "array([nan,  2.,  1.,  0.,  3.,  4.,  5.])"
      ]
     },
     "execution_count": 125,
     "metadata": {},
     "output_type": "execute_result"
    }
   ],
   "source": [
    "round(drought_validation['score'], 0).unique()"
   ]
  },
  {
   "cell_type": "markdown",
   "id": "c607b731",
   "metadata": {},
   "source": [
    "### 1.4. Learning Task Definition  \n",
    "The objective of this study is to **predict drought severity levels** using meteorological and climatic indicators.  \n",
    "This task is formulated as an **ordinal classification problem**, since the drought classes (`D0`–`D4`) and no drought class `0` represent an ordered sequence of severity levels."
   ]
  },
  {
   "cell_type": "markdown",
   "id": "705a495c",
   "metadata": {},
   "source": [
    "## 2. Data Preprocessing\n",
    "Before conducting exploratory analysis, the dataset will be **reprocessed and preprocessed** to make it suitable for machine learning.  \n",
    "The original dataset contains multiple counties, potential missing values, and temporal dependencies that require careful handling.\n",
    "\n",
    "\n",
    "all features are numeric except for `fips` and `date` (which will be converted to datetime format). since we are focusing in one county, with just one `fips` value, we will drop this column."
   ]
  },
  {
   "cell_type": "markdown",
   "id": "fe1ef077",
   "metadata": {},
   "source": [
    "### 2.1. Data Subsetting  "
   ]
  },
  {
   "cell_type": "markdown",
   "id": "cad96d2f",
   "metadata": {},
   "source": [
    "For this project, only data from **one selected county** will be used, allowing consistent temporal modeling and reducing data volume for computational efficiency."
   ]
  },
  {
   "cell_type": "markdown",
   "id": "253abd80",
   "metadata": {},
   "source": [
    "because the scores of the datasets are embalaced and the dataset is too big, we chose to subset the dataset, modeling only one county (using train, validation and test data already provided for that county)\n",
    "\n",
    "it was important to chose a county that experienced no drought but also that has experienced all types of drought before (since these are the classes with less data scores). - dataset is imbalenced so it is important to chose a county that has all drough classes represented\n",
    "\n",
    "later this model will be speacilized to predict drought in areas (counties), similar to the one we chose"
   ]
  },
  {
   "cell_type": "markdown",
   "id": "09812c42",
   "metadata": {},
   "source": [
    "To simplify the study and ensure computational efficiency:\n",
    "- Only **one county** will be used (selected based on data completeness and representativeness).  \n",
    "- This subset will serve as the basis for **training**, **validation**, and **testing** — ensuring consistency while avoiding spatial leakage.  \n",
    "- All other counties will be **cropped** from the dataset."
   ]
  },
  {
   "cell_type": "markdown",
   "id": "83e16237",
   "metadata": {},
   "source": [
    "### 2.2. Handling Missing Values and Outliers  \n",
    "- Missing data will be handled using imputation (e.g., median or time-based interpolation).  \n",
    "- Outliers will be detected and managed using the interquartile range (IQR) or z-score method.  \n",
    "- The target variable `drought_class` will be checked for consistency and coverage over time."
   ]
  },
  {
   "cell_type": "markdown",
   "id": "899c27a8",
   "metadata": {},
   "source": [
    "### 2.3. Temporal Aggregation and Feature Engineering  \n",
    "To capture drought dynamics and temporal dependencies:\n",
    "- New features will be created by computing **rolling averages or sums** over the **past 180 days** for selected meteorological variables (e.g., precipitation, temperature, vegetation indices).  \n",
    "- These aggregated statistics will help smooth short-term fluctuations and highlight medium-term climate trends relevant for drought prediction."
   ]
  },
  {
   "cell_type": "markdown",
   "id": "786e15ba",
   "metadata": {},
   "source": [
    "### 2.4. Encoding and Normalization  \n",
    "- Categorical variables (if present) such as `state` or `county` will be label-encoded.  \n",
    "- Numerical features will be scaled using **StandardScaler** or **MinMaxScaler** to improve model performance.  "
   ]
  },
  {
   "cell_type": "markdown",
   "id": "fdd9dccd",
   "metadata": {},
   "source": [
    "### 2.5. Final Preprocessed Dataset  \n",
    "After preprocessing:\n",
    "- The dataset will contain only one county’s time series.  \n",
    "- Each record will include meteorological and drought indices, along with the engineered rolling-window features.  \n",
    "- The resulting dataset will then be analyzed in the following section."
   ]
  },
  {
   "cell_type": "markdown",
   "id": "0fbd7caf",
   "metadata": {},
   "source": [
    "## 3. Exploratory Data Analysis (EDA)\n",
    "A descriptive statistical analysis of the preprocessed dataset will be conducted to understand the distributions, relationships and temporal patterns of the features and the target variable."
   ]
  },
  {
   "cell_type": "markdown",
   "id": "6c3a5edc",
   "metadata": {},
   "source": [
    "### 3.1. Data Overview  \n",
    "- Display the shape of the preprocessed dataset (number of records and features).  \n",
    "- Present data types, completeness, and the structure of the time series.  \n",
    "- Verify that the temporal resolution and coverage are consistent."
   ]
  },
  {
   "cell_type": "markdown",
   "id": "cb16847f",
   "metadata": {},
   "source": [
    "### 3.2. Descriptive Statistics  \n",
    "- Use `.describe()` for numerical columns to summarize mean, standard deviation, min, max, and quartiles.  \n",
    "- For the target variable `drought_class`, use `value_counts()` to examine class balance."
   ]
  },
  {
   "cell_type": "markdown",
   "id": "4f460160",
   "metadata": {},
   "source": [
    "### 3.3. Visualization (max. 4 figures)  \n",
    "Recommended figures:\n",
    "1. **Histogram of drought classes** — show the frequency of each drought category.  \n",
    "2. **Time series plot** — visualize drought class evolution over time for the selected county.  \n",
    "3. **Correlation heatmap** — display relationships among key meteorological and drought indices.  \n",
    "4. **Boxplot or line plot** — show how temperature or precipitation vary across drought categories.\n",
    "\n",
    "Each figure should include:\n",
    "- A caption (e.g., “Temporal distribution of drought severity in County X”), and  \n",
    "- A short comment interpreting the observed trend."
   ]
  },
  {
   "cell_type": "markdown",
   "id": "df3c4fb1",
   "metadata": {},
   "source": [
    "## 5. Evaluation Protocol\n",
    "Describe how the models will be evaluated, including metrics and validation strategies, hyperparameter tuning and splitting strategies."
   ]
  },
  {
   "cell_type": "markdown",
   "id": "e26e2802",
   "metadata": {},
   "source": [
    "### 5.1. Data Splitting Strategy  \n",
    "- Use **temporal splitting** to preserve the chronological order of observations.  \n",
    "- Divide the dataset into **training (70%)**, **validation (15%)**, and **test (15%)** subsets.  \n",
    "- Ensure no temporal leakage by splitting along time boundaries (future data never used for training).  \n",
    "- Set a fixed `random_state` for reproducibility."
   ]
  },
  {
   "cell_type": "markdown",
   "id": "ece1b58d",
   "metadata": {},
   "source": [
    "### 5.2. Cross-Validation and Hyperparameter Tuning  \n",
    "- Apply **TimeSeriesSplit** or a similar time-aware cross-validation method for model tuning.  \n",
    "- Use **GridSearchCV** to optimize key hyperparameters.  \n",
    "- Validation results will guide model selection before final testing."
   ]
  },
  {
   "cell_type": "markdown",
   "id": "30a352bd",
   "metadata": {},
   "source": [
    "### 5.3. Evaluation Metrics  \n",
    "Metrics suitable for ordinal classification:\n",
    "\n",
    "| Metric | Description | Justification |\n",
    "|--------|--------------|----------------|\n",
    "| **Accuracy** | Ratio of correctly predicted drought categories | Baseline metric |\n",
    "| **Cohen’s Kappa** | Measures agreement adjusted for chance and order | Captures ordinal consistency |\n",
    "| **F1-score (macro)** | Harmonic mean of precision and recall across classes | Accounts for class imbalance |"
   ]
  },
  {
   "cell_type": "markdown",
   "id": "d5238c03",
   "metadata": {},
   "source": [
    "## 6. Summary and Next Steps  \n",
    "- The dataset has been filtered to one county to simplify the problem and ensure data quality.  \n",
    "- Temporal aggregation and preprocessing steps allow the model to capture meaningful drought trends.  \n",
    "- The next milestone will focus on implementing and evaluating multiple machine learning models to predict drought severity levels."
   ]
  },
  {
   "cell_type": "markdown",
   "id": "9dd3fc3c",
   "metadata": {},
   "source": [
    "**References**  \n",
    "- U.S. Drought Monitor Dataset: [https://www.kaggle.com/datasets/cdminix/us-drought-meteorological-data](https://www.kaggle.com/datasets/cdminix/us-drought-meteorological-data)  \n",
    "- Copernicus Climate Service: [https://www.copernicus.eu/en/copernicus-services](https://www.copernicus.eu/en/copernicus-services)"
   ]
  },
  {
   "cell_type": "markdown",
   "id": "f20a8675",
   "metadata": {},
   "source": [
    "# Import Libraries"
   ]
  },
  {
   "cell_type": "code",
   "execution_count": 96,
   "id": "9496312b",
   "metadata": {},
   "outputs": [],
   "source": [
    "import pandas as pd"
   ]
  },
  {
   "cell_type": "markdown",
   "id": "375fdeee",
   "metadata": {},
   "source": [
    "# Discovering the dataset"
   ]
  },
  {
   "cell_type": "code",
   "execution_count": 97,
   "id": "38ef18b6",
   "metadata": {},
   "outputs": [
    {
     "data": {
      "text/html": [
       "<div>\n",
       "<style scoped>\n",
       "    .dataframe tbody tr th:only-of-type {\n",
       "        vertical-align: middle;\n",
       "    }\n",
       "\n",
       "    .dataframe tbody tr th {\n",
       "        vertical-align: top;\n",
       "    }\n",
       "\n",
       "    .dataframe thead th {\n",
       "        text-align: right;\n",
       "    }\n",
       "</style>\n",
       "<table border=\"1\" class=\"dataframe\">\n",
       "  <thead>\n",
       "    <tr style=\"text-align: right;\">\n",
       "      <th></th>\n",
       "      <th>fips</th>\n",
       "      <th>date</th>\n",
       "      <th>PRECTOT</th>\n",
       "      <th>PS</th>\n",
       "      <th>QV2M</th>\n",
       "      <th>T2M</th>\n",
       "      <th>T2MDEW</th>\n",
       "      <th>T2MWET</th>\n",
       "      <th>T2M_MAX</th>\n",
       "      <th>T2M_MIN</th>\n",
       "      <th>...</th>\n",
       "      <th>TS</th>\n",
       "      <th>WS10M</th>\n",
       "      <th>WS10M_MAX</th>\n",
       "      <th>WS10M_MIN</th>\n",
       "      <th>WS10M_RANGE</th>\n",
       "      <th>WS50M</th>\n",
       "      <th>WS50M_MAX</th>\n",
       "      <th>WS50M_MIN</th>\n",
       "      <th>WS50M_RANGE</th>\n",
       "      <th>score</th>\n",
       "    </tr>\n",
       "  </thead>\n",
       "  <tbody>\n",
       "    <tr>\n",
       "      <th>0</th>\n",
       "      <td>1001</td>\n",
       "      <td>2017-01-01</td>\n",
       "      <td>32.50</td>\n",
       "      <td>100.02</td>\n",
       "      <td>10.47</td>\n",
       "      <td>14.69</td>\n",
       "      <td>14.47</td>\n",
       "      <td>14.47</td>\n",
       "      <td>17.68</td>\n",
       "      <td>10.53</td>\n",
       "      <td>...</td>\n",
       "      <td>14.63</td>\n",
       "      <td>2.14</td>\n",
       "      <td>2.71</td>\n",
       "      <td>1.52</td>\n",
       "      <td>1.19</td>\n",
       "      <td>4.40</td>\n",
       "      <td>5.96</td>\n",
       "      <td>2.25</td>\n",
       "      <td>3.71</td>\n",
       "      <td>NaN</td>\n",
       "    </tr>\n",
       "    <tr>\n",
       "      <th>1</th>\n",
       "      <td>1001</td>\n",
       "      <td>2017-01-02</td>\n",
       "      <td>63.52</td>\n",
       "      <td>100.04</td>\n",
       "      <td>12.75</td>\n",
       "      <td>17.96</td>\n",
       "      <td>17.75</td>\n",
       "      <td>17.75</td>\n",
       "      <td>20.30</td>\n",
       "      <td>16.14</td>\n",
       "      <td>...</td>\n",
       "      <td>17.85</td>\n",
       "      <td>2.75</td>\n",
       "      <td>4.31</td>\n",
       "      <td>1.60</td>\n",
       "      <td>2.71</td>\n",
       "      <td>5.50</td>\n",
       "      <td>8.16</td>\n",
       "      <td>4.05</td>\n",
       "      <td>4.11</td>\n",
       "      <td>NaN</td>\n",
       "    </tr>\n",
       "    <tr>\n",
       "      <th>2</th>\n",
       "      <td>1001</td>\n",
       "      <td>2017-01-03</td>\n",
       "      <td>18.82</td>\n",
       "      <td>99.69</td>\n",
       "      <td>9.74</td>\n",
       "      <td>14.24</td>\n",
       "      <td>13.44</td>\n",
       "      <td>13.44</td>\n",
       "      <td>18.48</td>\n",
       "      <td>9.29</td>\n",
       "      <td>...</td>\n",
       "      <td>14.06</td>\n",
       "      <td>2.25</td>\n",
       "      <td>3.73</td>\n",
       "      <td>1.64</td>\n",
       "      <td>2.09</td>\n",
       "      <td>4.80</td>\n",
       "      <td>7.27</td>\n",
       "      <td>2.54</td>\n",
       "      <td>4.72</td>\n",
       "      <td>2.0</td>\n",
       "    </tr>\n",
       "    <tr>\n",
       "      <th>3</th>\n",
       "      <td>1001</td>\n",
       "      <td>2017-01-04</td>\n",
       "      <td>0.01</td>\n",
       "      <td>100.02</td>\n",
       "      <td>5.21</td>\n",
       "      <td>8.10</td>\n",
       "      <td>3.86</td>\n",
       "      <td>3.88</td>\n",
       "      <td>11.74</td>\n",
       "      <td>2.12</td>\n",
       "      <td>...</td>\n",
       "      <td>8.08</td>\n",
       "      <td>2.63</td>\n",
       "      <td>3.95</td>\n",
       "      <td>1.34</td>\n",
       "      <td>2.60</td>\n",
       "      <td>4.98</td>\n",
       "      <td>6.16</td>\n",
       "      <td>3.36</td>\n",
       "      <td>2.80</td>\n",
       "      <td>NaN</td>\n",
       "    </tr>\n",
       "    <tr>\n",
       "      <th>4</th>\n",
       "      <td>1001</td>\n",
       "      <td>2017-01-05</td>\n",
       "      <td>0.01</td>\n",
       "      <td>99.89</td>\n",
       "      <td>4.54</td>\n",
       "      <td>5.91</td>\n",
       "      <td>2.20</td>\n",
       "      <td>2.22</td>\n",
       "      <td>13.07</td>\n",
       "      <td>-0.18</td>\n",
       "      <td>...</td>\n",
       "      <td>5.85</td>\n",
       "      <td>1.76</td>\n",
       "      <td>2.76</td>\n",
       "      <td>0.47</td>\n",
       "      <td>2.28</td>\n",
       "      <td>3.43</td>\n",
       "      <td>4.70</td>\n",
       "      <td>0.66</td>\n",
       "      <td>4.04</td>\n",
       "      <td>NaN</td>\n",
       "    </tr>\n",
       "  </tbody>\n",
       "</table>\n",
       "<p>5 rows × 21 columns</p>\n",
       "</div>"
      ],
      "text/plain": [
       "   fips        date  PRECTOT      PS   QV2M    T2M  T2MDEW  T2MWET  T2M_MAX  \\\n",
       "0  1001  2017-01-01    32.50  100.02  10.47  14.69   14.47   14.47    17.68   \n",
       "1  1001  2017-01-02    63.52  100.04  12.75  17.96   17.75   17.75    20.30   \n",
       "2  1001  2017-01-03    18.82   99.69   9.74  14.24   13.44   13.44    18.48   \n",
       "3  1001  2017-01-04     0.01  100.02   5.21   8.10    3.86    3.88    11.74   \n",
       "4  1001  2017-01-05     0.01   99.89   4.54   5.91    2.20    2.22    13.07   \n",
       "\n",
       "   T2M_MIN  ...     TS  WS10M  WS10M_MAX  WS10M_MIN  WS10M_RANGE  WS50M  \\\n",
       "0    10.53  ...  14.63   2.14       2.71       1.52         1.19   4.40   \n",
       "1    16.14  ...  17.85   2.75       4.31       1.60         2.71   5.50   \n",
       "2     9.29  ...  14.06   2.25       3.73       1.64         2.09   4.80   \n",
       "3     2.12  ...   8.08   2.63       3.95       1.34         2.60   4.98   \n",
       "4    -0.18  ...   5.85   1.76       2.76       0.47         2.28   3.43   \n",
       "\n",
       "   WS50M_MAX  WS50M_MIN  WS50M_RANGE  score  \n",
       "0       5.96       2.25         3.71    NaN  \n",
       "1       8.16       4.05         4.11    NaN  \n",
       "2       7.27       2.54         4.72    2.0  \n",
       "3       6.16       3.36         2.80    NaN  \n",
       "4       4.70       0.66         4.04    NaN  \n",
       "\n",
       "[5 rows x 21 columns]"
      ]
     },
     "execution_count": 97,
     "metadata": {},
     "output_type": "execute_result"
    }
   ],
   "source": [
    "path = \"archive/validation_timeseries/validation_timeseries.csv\"\n",
    "drought_df = pd.read_csv(path)\n",
    "drought_df.head()"
   ]
  },
  {
   "cell_type": "code",
   "execution_count": 98,
   "id": "aeaa4665",
   "metadata": {},
   "outputs": [
    {
     "data": {
      "text/html": [
       "<div>\n",
       "<style scoped>\n",
       "    .dataframe tbody tr th:only-of-type {\n",
       "        vertical-align: middle;\n",
       "    }\n",
       "\n",
       "    .dataframe tbody tr th {\n",
       "        vertical-align: top;\n",
       "    }\n",
       "\n",
       "    .dataframe thead th {\n",
       "        text-align: right;\n",
       "    }\n",
       "</style>\n",
       "<table border=\"1\" class=\"dataframe\">\n",
       "  <thead>\n",
       "    <tr style=\"text-align: right;\">\n",
       "      <th></th>\n",
       "      <th>fips</th>\n",
       "      <th>date</th>\n",
       "      <th>PRECTOT</th>\n",
       "      <th>PS</th>\n",
       "      <th>QV2M</th>\n",
       "      <th>T2M</th>\n",
       "      <th>T2MDEW</th>\n",
       "      <th>T2MWET</th>\n",
       "      <th>T2M_MAX</th>\n",
       "      <th>T2M_MIN</th>\n",
       "      <th>...</th>\n",
       "      <th>TS</th>\n",
       "      <th>WS10M</th>\n",
       "      <th>WS10M_MAX</th>\n",
       "      <th>WS10M_MIN</th>\n",
       "      <th>WS10M_RANGE</th>\n",
       "      <th>WS50M</th>\n",
       "      <th>WS50M_MAX</th>\n",
       "      <th>WS50M_MIN</th>\n",
       "      <th>WS50M_RANGE</th>\n",
       "      <th>score</th>\n",
       "    </tr>\n",
       "  </thead>\n",
       "  <tbody>\n",
       "    <tr>\n",
       "      <th>0</th>\n",
       "      <td>1001</td>\n",
       "      <td>2017-01-01</td>\n",
       "      <td>32.50</td>\n",
       "      <td>100.02</td>\n",
       "      <td>10.47</td>\n",
       "      <td>14.69</td>\n",
       "      <td>14.47</td>\n",
       "      <td>14.47</td>\n",
       "      <td>17.68</td>\n",
       "      <td>10.53</td>\n",
       "      <td>...</td>\n",
       "      <td>14.63</td>\n",
       "      <td>2.14</td>\n",
       "      <td>2.71</td>\n",
       "      <td>1.52</td>\n",
       "      <td>1.19</td>\n",
       "      <td>4.40</td>\n",
       "      <td>5.96</td>\n",
       "      <td>2.25</td>\n",
       "      <td>3.71</td>\n",
       "      <td>NaN</td>\n",
       "    </tr>\n",
       "    <tr>\n",
       "      <th>1</th>\n",
       "      <td>1001</td>\n",
       "      <td>2017-01-02</td>\n",
       "      <td>63.52</td>\n",
       "      <td>100.04</td>\n",
       "      <td>12.75</td>\n",
       "      <td>17.96</td>\n",
       "      <td>17.75</td>\n",
       "      <td>17.75</td>\n",
       "      <td>20.30</td>\n",
       "      <td>16.14</td>\n",
       "      <td>...</td>\n",
       "      <td>17.85</td>\n",
       "      <td>2.75</td>\n",
       "      <td>4.31</td>\n",
       "      <td>1.60</td>\n",
       "      <td>2.71</td>\n",
       "      <td>5.50</td>\n",
       "      <td>8.16</td>\n",
       "      <td>4.05</td>\n",
       "      <td>4.11</td>\n",
       "      <td>NaN</td>\n",
       "    </tr>\n",
       "    <tr>\n",
       "      <th>2</th>\n",
       "      <td>1001</td>\n",
       "      <td>2017-01-03</td>\n",
       "      <td>18.82</td>\n",
       "      <td>99.69</td>\n",
       "      <td>9.74</td>\n",
       "      <td>14.24</td>\n",
       "      <td>13.44</td>\n",
       "      <td>13.44</td>\n",
       "      <td>18.48</td>\n",
       "      <td>9.29</td>\n",
       "      <td>...</td>\n",
       "      <td>14.06</td>\n",
       "      <td>2.25</td>\n",
       "      <td>3.73</td>\n",
       "      <td>1.64</td>\n",
       "      <td>2.09</td>\n",
       "      <td>4.80</td>\n",
       "      <td>7.27</td>\n",
       "      <td>2.54</td>\n",
       "      <td>4.72</td>\n",
       "      <td>2.0</td>\n",
       "    </tr>\n",
       "    <tr>\n",
       "      <th>3</th>\n",
       "      <td>1001</td>\n",
       "      <td>2017-01-04</td>\n",
       "      <td>0.01</td>\n",
       "      <td>100.02</td>\n",
       "      <td>5.21</td>\n",
       "      <td>8.10</td>\n",
       "      <td>3.86</td>\n",
       "      <td>3.88</td>\n",
       "      <td>11.74</td>\n",
       "      <td>2.12</td>\n",
       "      <td>...</td>\n",
       "      <td>8.08</td>\n",
       "      <td>2.63</td>\n",
       "      <td>3.95</td>\n",
       "      <td>1.34</td>\n",
       "      <td>2.60</td>\n",
       "      <td>4.98</td>\n",
       "      <td>6.16</td>\n",
       "      <td>3.36</td>\n",
       "      <td>2.80</td>\n",
       "      <td>NaN</td>\n",
       "    </tr>\n",
       "    <tr>\n",
       "      <th>4</th>\n",
       "      <td>1001</td>\n",
       "      <td>2017-01-05</td>\n",
       "      <td>0.01</td>\n",
       "      <td>99.89</td>\n",
       "      <td>4.54</td>\n",
       "      <td>5.91</td>\n",
       "      <td>2.20</td>\n",
       "      <td>2.22</td>\n",
       "      <td>13.07</td>\n",
       "      <td>-0.18</td>\n",
       "      <td>...</td>\n",
       "      <td>5.85</td>\n",
       "      <td>1.76</td>\n",
       "      <td>2.76</td>\n",
       "      <td>0.47</td>\n",
       "      <td>2.28</td>\n",
       "      <td>3.43</td>\n",
       "      <td>4.70</td>\n",
       "      <td>0.66</td>\n",
       "      <td>4.04</td>\n",
       "      <td>NaN</td>\n",
       "    </tr>\n",
       "    <tr>\n",
       "      <th>...</th>\n",
       "      <td>...</td>\n",
       "      <td>...</td>\n",
       "      <td>...</td>\n",
       "      <td>...</td>\n",
       "      <td>...</td>\n",
       "      <td>...</td>\n",
       "      <td>...</td>\n",
       "      <td>...</td>\n",
       "      <td>...</td>\n",
       "      <td>...</td>\n",
       "      <td>...</td>\n",
       "      <td>...</td>\n",
       "      <td>...</td>\n",
       "      <td>...</td>\n",
       "      <td>...</td>\n",
       "      <td>...</td>\n",
       "      <td>...</td>\n",
       "      <td>...</td>\n",
       "      <td>...</td>\n",
       "      <td>...</td>\n",
       "      <td>...</td>\n",
       "    </tr>\n",
       "    <tr>\n",
       "      <th>2268835</th>\n",
       "      <td>56043</td>\n",
       "      <td>2018-12-27</td>\n",
       "      <td>0.14</td>\n",
       "      <td>82.71</td>\n",
       "      <td>1.54</td>\n",
       "      <td>-9.57</td>\n",
       "      <td>-14.20</td>\n",
       "      <td>-13.09</td>\n",
       "      <td>-6.23</td>\n",
       "      <td>-12.06</td>\n",
       "      <td>...</td>\n",
       "      <td>-10.10</td>\n",
       "      <td>2.01</td>\n",
       "      <td>3.56</td>\n",
       "      <td>0.23</td>\n",
       "      <td>3.33</td>\n",
       "      <td>2.67</td>\n",
       "      <td>4.70</td>\n",
       "      <td>0.28</td>\n",
       "      <td>4.42</td>\n",
       "      <td>NaN</td>\n",
       "    </tr>\n",
       "    <tr>\n",
       "      <th>2268836</th>\n",
       "      <td>56043</td>\n",
       "      <td>2018-12-28</td>\n",
       "      <td>0.02</td>\n",
       "      <td>83.14</td>\n",
       "      <td>1.32</td>\n",
       "      <td>-11.25</td>\n",
       "      <td>-15.98</td>\n",
       "      <td>-14.57</td>\n",
       "      <td>-7.03</td>\n",
       "      <td>-14.33</td>\n",
       "      <td>...</td>\n",
       "      <td>-12.36</td>\n",
       "      <td>1.66</td>\n",
       "      <td>3.12</td>\n",
       "      <td>0.09</td>\n",
       "      <td>3.04</td>\n",
       "      <td>2.40</td>\n",
       "      <td>5.58</td>\n",
       "      <td>0.08</td>\n",
       "      <td>5.50</td>\n",
       "      <td>NaN</td>\n",
       "    </tr>\n",
       "    <tr>\n",
       "      <th>2268837</th>\n",
       "      <td>56043</td>\n",
       "      <td>2018-12-29</td>\n",
       "      <td>0.34</td>\n",
       "      <td>82.78</td>\n",
       "      <td>1.75</td>\n",
       "      <td>-7.17</td>\n",
       "      <td>-12.62</td>\n",
       "      <td>-12.17</td>\n",
       "      <td>0.64</td>\n",
       "      <td>-14.85</td>\n",
       "      <td>...</td>\n",
       "      <td>-8.09</td>\n",
       "      <td>3.64</td>\n",
       "      <td>4.71</td>\n",
       "      <td>2.47</td>\n",
       "      <td>2.24</td>\n",
       "      <td>5.58</td>\n",
       "      <td>7.61</td>\n",
       "      <td>4.15</td>\n",
       "      <td>3.46</td>\n",
       "      <td>NaN</td>\n",
       "    </tr>\n",
       "    <tr>\n",
       "      <th>2268838</th>\n",
       "      <td>56043</td>\n",
       "      <td>2018-12-30</td>\n",
       "      <td>3.17</td>\n",
       "      <td>81.97</td>\n",
       "      <td>2.72</td>\n",
       "      <td>-2.84</td>\n",
       "      <td>-7.14</td>\n",
       "      <td>-6.95</td>\n",
       "      <td>2.14</td>\n",
       "      <td>-8.49</td>\n",
       "      <td>...</td>\n",
       "      <td>-3.63</td>\n",
       "      <td>5.26</td>\n",
       "      <td>11.19</td>\n",
       "      <td>1.70</td>\n",
       "      <td>9.49</td>\n",
       "      <td>7.56</td>\n",
       "      <td>13.59</td>\n",
       "      <td>3.11</td>\n",
       "      <td>10.49</td>\n",
       "      <td>NaN</td>\n",
       "    </tr>\n",
       "    <tr>\n",
       "      <th>2268839</th>\n",
       "      <td>56043</td>\n",
       "      <td>2018-12-31</td>\n",
       "      <td>1.39</td>\n",
       "      <td>83.16</td>\n",
       "      <td>1.03</td>\n",
       "      <td>-13.02</td>\n",
       "      <td>-18.93</td>\n",
       "      <td>-16.97</td>\n",
       "      <td>-9.70</td>\n",
       "      <td>-16.67</td>\n",
       "      <td>...</td>\n",
       "      <td>-13.06</td>\n",
       "      <td>4.53</td>\n",
       "      <td>9.66</td>\n",
       "      <td>0.82</td>\n",
       "      <td>8.84</td>\n",
       "      <td>5.51</td>\n",
       "      <td>11.90</td>\n",
       "      <td>0.96</td>\n",
       "      <td>10.94</td>\n",
       "      <td>NaN</td>\n",
       "    </tr>\n",
       "  </tbody>\n",
       "</table>\n",
       "<p>2268840 rows × 21 columns</p>\n",
       "</div>"
      ],
      "text/plain": [
       "          fips        date  PRECTOT      PS   QV2M    T2M  T2MDEW  T2MWET  \\\n",
       "0         1001  2017-01-01    32.50  100.02  10.47  14.69   14.47   14.47   \n",
       "1         1001  2017-01-02    63.52  100.04  12.75  17.96   17.75   17.75   \n",
       "2         1001  2017-01-03    18.82   99.69   9.74  14.24   13.44   13.44   \n",
       "3         1001  2017-01-04     0.01  100.02   5.21   8.10    3.86    3.88   \n",
       "4         1001  2017-01-05     0.01   99.89   4.54   5.91    2.20    2.22   \n",
       "...        ...         ...      ...     ...    ...    ...     ...     ...   \n",
       "2268835  56043  2018-12-27     0.14   82.71   1.54  -9.57  -14.20  -13.09   \n",
       "2268836  56043  2018-12-28     0.02   83.14   1.32 -11.25  -15.98  -14.57   \n",
       "2268837  56043  2018-12-29     0.34   82.78   1.75  -7.17  -12.62  -12.17   \n",
       "2268838  56043  2018-12-30     3.17   81.97   2.72  -2.84   -7.14   -6.95   \n",
       "2268839  56043  2018-12-31     1.39   83.16   1.03 -13.02  -18.93  -16.97   \n",
       "\n",
       "         T2M_MAX  T2M_MIN  ...     TS  WS10M  WS10M_MAX  WS10M_MIN  \\\n",
       "0          17.68    10.53  ...  14.63   2.14       2.71       1.52   \n",
       "1          20.30    16.14  ...  17.85   2.75       4.31       1.60   \n",
       "2          18.48     9.29  ...  14.06   2.25       3.73       1.64   \n",
       "3          11.74     2.12  ...   8.08   2.63       3.95       1.34   \n",
       "4          13.07    -0.18  ...   5.85   1.76       2.76       0.47   \n",
       "...          ...      ...  ...    ...    ...        ...        ...   \n",
       "2268835    -6.23   -12.06  ... -10.10   2.01       3.56       0.23   \n",
       "2268836    -7.03   -14.33  ... -12.36   1.66       3.12       0.09   \n",
       "2268837     0.64   -14.85  ...  -8.09   3.64       4.71       2.47   \n",
       "2268838     2.14    -8.49  ...  -3.63   5.26      11.19       1.70   \n",
       "2268839    -9.70   -16.67  ... -13.06   4.53       9.66       0.82   \n",
       "\n",
       "         WS10M_RANGE  WS50M  WS50M_MAX  WS50M_MIN  WS50M_RANGE  score  \n",
       "0               1.19   4.40       5.96       2.25         3.71    NaN  \n",
       "1               2.71   5.50       8.16       4.05         4.11    NaN  \n",
       "2               2.09   4.80       7.27       2.54         4.72    2.0  \n",
       "3               2.60   4.98       6.16       3.36         2.80    NaN  \n",
       "4               2.28   3.43       4.70       0.66         4.04    NaN  \n",
       "...              ...    ...        ...        ...          ...    ...  \n",
       "2268835         3.33   2.67       4.70       0.28         4.42    NaN  \n",
       "2268836         3.04   2.40       5.58       0.08         5.50    NaN  \n",
       "2268837         2.24   5.58       7.61       4.15         3.46    NaN  \n",
       "2268838         9.49   7.56      13.59       3.11        10.49    NaN  \n",
       "2268839         8.84   5.51      11.90       0.96        10.94    NaN  \n",
       "\n",
       "[2268840 rows x 21 columns]"
      ]
     },
     "execution_count": 98,
     "metadata": {},
     "output_type": "execute_result"
    }
   ],
   "source": [
    "drought_df"
   ]
  },
  {
   "cell_type": "code",
   "execution_count": 99,
   "id": "c683d1c5",
   "metadata": {},
   "outputs": [
    {
     "name": "stdout",
     "output_type": "stream",
     "text": [
      "<class 'pandas.core.frame.DataFrame'>\n",
      "RangeIndex: 2268840 entries, 0 to 2268839\n",
      "Data columns (total 21 columns):\n",
      " #   Column       Dtype  \n",
      "---  ------       -----  \n",
      " 0   fips         int64  \n",
      " 1   date         object \n",
      " 2   PRECTOT      float64\n",
      " 3   PS           float64\n",
      " 4   QV2M         float64\n",
      " 5   T2M          float64\n",
      " 6   T2MDEW       float64\n",
      " 7   T2MWET       float64\n",
      " 8   T2M_MAX      float64\n",
      " 9   T2M_MIN      float64\n",
      " 10  T2M_RANGE    float64\n",
      " 11  TS           float64\n",
      " 12  WS10M        float64\n",
      " 13  WS10M_MAX    float64\n",
      " 14  WS10M_MIN    float64\n",
      " 15  WS10M_RANGE  float64\n",
      " 16  WS50M        float64\n",
      " 17  WS50M_MAX    float64\n",
      " 18  WS50M_MIN    float64\n",
      " 19  WS50M_RANGE  float64\n",
      " 20  score        float64\n",
      "dtypes: float64(19), int64(1), object(1)\n",
      "memory usage: 363.5+ MB\n"
     ]
    }
   ],
   "source": [
    "drought_df.info()"
   ]
  },
  {
   "cell_type": "code",
   "execution_count": 100,
   "id": "04ce0a12",
   "metadata": {},
   "outputs": [
    {
     "data": {
      "text/plain": [
       "(2268840, 21)"
      ]
     },
     "execution_count": 100,
     "metadata": {},
     "output_type": "execute_result"
    }
   ],
   "source": [
    "drought_df.shape"
   ]
  },
  {
   "cell_type": "code",
   "execution_count": null,
   "id": "8dbeac29",
   "metadata": {},
   "outputs": [],
   "source": [
    "drought_df['score'] = drought_df['score'].astype(int)"
   ]
  },
  {
   "cell_type": "code",
   "execution_count": 107,
   "id": "9f036e31",
   "metadata": {},
   "outputs": [
    {
     "data": {
      "text/plain": [
       "array([nan,  2.,  1.,  0.,  3.,  4.,  5.])"
      ]
     },
     "execution_count": 107,
     "metadata": {},
     "output_type": "execute_result"
    }
   ],
   "source": [
    "round(drought_df['score'], 0).unique()"
   ]
  },
  {
   "cell_type": "code",
   "execution_count": 102,
   "id": "bf3e54a6",
   "metadata": {},
   "outputs": [
    {
     "data": {
      "text/plain": [
       "fips\n",
       "False    2268110\n",
       "True         730\n",
       "Name: count, dtype: int64"
      ]
     },
     "execution_count": 102,
     "metadata": {},
     "output_type": "execute_result"
    }
   ],
   "source": [
    "# Convert fips to integer (removes decimals)\n",
    "drought_df['fips'] = drought_df['fips'].astype(int)\n",
    "\n",
    "# Count rows where fips == 5119 (leading zero is dropped in integer)\n",
    "count = (drought_df['fips'] == 5119).value_counts()\n",
    "count"
   ]
  },
  {
   "cell_type": "markdown",
   "id": "ec52754c",
   "metadata": {},
   "source": [
    "FIPS codes are numbers which uniquely identify geographic areas.  The number of \n",
    "digits in FIPS codes vary depending on the level of geography.  State-level FIPS\n",
    "codes have two digits, county-level FIPS codes have five digits of which the \n",
    "first two are the FIPS code of the state to which the county belongs.  When \n",
    "using the list below to look up county FIPS codes, it is advisable to first look\n",
    "up the FIPS code for the state to which the county belongs.  This will help you\n",
    "identify the right section of the list while scrolling down, which can be\n",
    "important since there are over 3000 counties and county-equivalents (e.g.\n",
    "independent cities, parishes, boroughs) in the United States."
   ]
  }
 ],
 "metadata": {
  "kernelspec": {
   "display_name": "base",
   "language": "python",
   "name": "python3"
  },
  "language_info": {
   "codemirror_mode": {
    "name": "ipython",
    "version": 3
   },
   "file_extension": ".py",
   "mimetype": "text/x-python",
   "name": "python",
   "nbconvert_exporter": "python",
   "pygments_lexer": "ipython3",
   "version": "3.13.5"
  }
 },
 "nbformat": 4,
 "nbformat_minor": 5
}
